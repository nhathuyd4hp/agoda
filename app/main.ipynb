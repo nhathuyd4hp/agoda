{
 "cells": [
  {
   "cell_type": "code",
   "execution_count": 1,
   "metadata": {},
   "outputs": [],
   "source": [
    "from agoda import Agoda\n",
    "\n",
    "app = Agoda()"
   ]
  },
  {
   "cell_type": "code",
   "execution_count": 3,
   "metadata": {},
   "outputs": [],
   "source": [
    "reviews = app.reviewHotel(\n",
    "    hotelId=38476987,\n",
    "    pageNo=0\n",
    ")"
   ]
  },
  {
   "cell_type": "code",
   "execution_count": 6,
   "metadata": {},
   "outputs": [
    {
     "data": {
      "text/plain": [
       "'/vi-vn/momo-residence/reviews/ho-chi-minh-city-vn.html'"
      ]
     },
     "execution_count": 6,
     "metadata": {},
     "output_type": "execute_result"
    }
   ],
   "source": [
    "reviews['commentList']['reviewPageUrl']"
   ]
  },
  {
   "cell_type": "code",
   "execution_count": 31,
   "metadata": {},
   "outputs": [
    {
     "name": "stdout",
     "output_type": "stream",
     "text": [
      "UserID:  None\n",
      "Username:  Trang\n",
      "Review negatives:  \n",
      "Review positives:  \n",
      "Rating:  10.0\n",
      "-------------------------------------\n",
      "UserID:  None\n",
      "Username:  Thuý\n",
      "Review negatives:  không có\n",
      "Review positives:  rất giống như hình đăng\n",
      "Rating:  10.0\n",
      "-------------------------------------\n",
      "UserID:  None\n",
      "Username:  Ánh\n",
      "Review negatives:  \n",
      "Review positives:  \n",
      "Rating:  10.0\n",
      "-------------------------------------\n",
      "UserID:  None\n",
      "Username:  Đào\n",
      "Review negatives:  cách âm hơi kém\n",
      "Review positives:  phòng sạch sẽ, tiện nghi\n",
      "Rating:  8.0\n",
      "-------------------------------------\n",
      "UserID:  None\n",
      "Username:  My\n",
      "Review negatives:  \n",
      "Review positives:  \n",
      "Rating:  9.2\n",
      "-------------------------------------\n",
      "UserID:  None\n",
      "Username:  Vy\n",
      "Review negatives:  \n",
      "Review positives:  Cực sạch sẽ và mới, vị trí thuận tiện. Mong chổ nghĩ sẽ luôn duy trì sự đẹp này. Lovee 😚\n",
      "Rating:  10.0\n",
      "-------------------------------------\n",
      "UserID:  None\n",
      "Username:  Thi\n",
      "Review negatives:  \n",
      "Review positives:  \n",
      "Rating:  10.0\n",
      "-------------------------------------\n",
      "UserID:  None\n",
      "Username:  Quỳnh\n",
      "Review negatives:  \n",
      "Review positives:  1. có bếp\n",
      "2. có bếp\n",
      "2. có bếp\n",
      "3. xinh\n",
      "4. restroom xiu too \n",
      "5. sạch cực\n",
      "6. ko phải checkin qua nhân viên, gọn lẹ ko rườm rà.\n",
      "Rating:  10.0\n",
      "-------------------------------------\n",
      "UserID:  None\n",
      "Username:  duong\n",
      "Review negatives:  \n",
      "Review positives:  \n",
      "Rating:  10.0\n",
      "-------------------------------------\n",
      "UserID:  None\n",
      "Username:  Trà\n",
      "Review negatives:  Không có\n",
      "Review positives:  Phòng sạch sẽ, rộng rãi\n",
      "Rating:  10.0\n",
      "-------------------------------------\n"
     ]
    }
   ],
   "source": [
    "for vote in reviews['commentList']['comments']:\n",
    "    username = vote['reviewerInfo']['displayMemberName']\n",
    "    rating = vote['rating']\n",
    "    reviewNegatives = vote['reviewNegatives']\n",
    "    reviewPositives = vote['reviewPositives']\n",
    "    rating = vote['rating']\n",
    "    print(\"UserID: \", None)\n",
    "    print(\"Username: \",username)\n",
    "    print(\"Review negatives: \",reviewNegatives)\n",
    "    print(\"Review positives: \",reviewPositives)\n",
    "    print(\"Rating: \",rating)\n",
    "    print(\"-------------------------------------\")"
   ]
  },
  {
   "cell_type": "code",
   "execution_count": null,
   "metadata": {},
   "outputs": [],
   "source": []
  }
 ],
 "metadata": {
  "kernelspec": {
   "display_name": ".venv",
   "language": "python",
   "name": "python3"
  },
  "language_info": {
   "codemirror_mode": {
    "name": "ipython",
    "version": 3
   },
   "file_extension": ".py",
   "mimetype": "text/x-python",
   "name": "python",
   "nbconvert_exporter": "python",
   "pygments_lexer": "ipython3",
   "version": "3.11.2"
  }
 },
 "nbformat": 4,
 "nbformat_minor": 2
}
